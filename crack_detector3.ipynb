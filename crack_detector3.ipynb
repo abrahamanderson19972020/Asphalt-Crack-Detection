{
 "cells": [
  {
   "cell_type": "code",
   "execution_count": 124,
   "id": "b93cc609",
   "metadata": {},
   "outputs": [],
   "source": [
    "import numpy as np\n",
    "import pandas as pd\n",
    "import matplotlib.pyplot as plt\n",
    "import seaborn as sns\n",
    "import random\n",
    "from tensorflow.keras.preprocessing import image\n",
    "from tensorflow.keras.models import load_model\n",
    "from tensorflow.keras.models import Sequential\n",
    "from tensorflow.keras.layers import Conv2D, AveragePooling2D, MaxPool2D, Flatten, Dense, Dropout\n",
    "from tensorflow.keras.preprocessing.image import ImageDataGenerator"
   ]
  },
  {
   "cell_type": "markdown",
   "id": "235b4d41",
   "metadata": {},
   "source": [
    "# PART I: DATA PREPROCESSING:"
   ]
  },
  {
   "cell_type": "code",
   "execution_count": 205,
   "id": "0ea6731d",
   "metadata": {},
   "outputs": [
    {
     "name": "stdout",
     "output_type": "stream",
     "text": [
      "Found 4100 images belonging to 2 classes.\n"
     ]
    }
   ],
   "source": [
    "train_datagen = ImageDataGenerator(\n",
    "        rescale=1./255,\n",
    "        shear_range=0.2,\n",
    "        zoom_range=0.2,\n",
    "        fill_mode='nearest',\n",
    "    rotation_range=20,\n",
    "    width_shift_range=0.2,\n",
    "    height_shift_range=0.2,\n",
    "        horizontal_flip=True)\n",
    "training_set = train_datagen.flow_from_directory(\n",
    "        'C:/Users/Bruker/OneDrive/Desktop/crack/project_group11/out',\n",
    "        target_size=(64, 64),\n",
    "        batch_size=32,\n",
    "        class_mode='binary')"
   ]
  },
  {
   "cell_type": "code",
   "execution_count": 206,
   "id": "12b4d960",
   "metadata": {},
   "outputs": [
    {
     "name": "stdout",
     "output_type": "stream",
     "text": [
      "Found 603 images belonging to 2 classes.\n"
     ]
    }
   ],
   "source": [
    "test_datagen = ImageDataGenerator(rescale=1./255)\n",
    "test_set = test_datagen.flow_from_directory(\n",
    "        'C:/Users/Bruker/OneDrive/Desktop/crack/project_group11//test',\n",
    "        target_size=(64, 64),\n",
    "        batch_size=32,\n",
    "        class_mode='binary')"
   ]
  },
  {
   "cell_type": "code",
   "execution_count": 207,
   "id": "e377da48",
   "metadata": {},
   "outputs": [],
   "source": [
    "cnn = Sequential()"
   ]
  },
  {
   "cell_type": "code",
   "execution_count": 208,
   "id": "042afb2b",
   "metadata": {},
   "outputs": [],
   "source": [
    "cnn.add(Conv2D(filters=32, kernel_size=3, activation=\"relu\",input_shape=[64,64,3]))"
   ]
  },
  {
   "cell_type": "code",
   "execution_count": 209,
   "id": "571695cd",
   "metadata": {},
   "outputs": [],
   "source": [
    "cnn.add(MaxPool2D(pool_size=2, strides=2))"
   ]
  },
  {
   "cell_type": "code",
   "execution_count": 210,
   "id": "778fe494",
   "metadata": {},
   "outputs": [],
   "source": [
    "cnn.add(Conv2D(filters= 32, kernel_size=3, activation= \"relu\"))"
   ]
  },
  {
   "cell_type": "code",
   "execution_count": 211,
   "id": "24925178",
   "metadata": {},
   "outputs": [],
   "source": [
    "cnn.add(MaxPool2D(pool_size=2, strides=2))"
   ]
  },
  {
   "cell_type": "code",
   "execution_count": 212,
   "id": "466e1e07",
   "metadata": {},
   "outputs": [],
   "source": [
    "cnn.add(Flatten())"
   ]
  },
  {
   "cell_type": "code",
   "execution_count": 213,
   "id": "b0c79a01",
   "metadata": {},
   "outputs": [],
   "source": [
    "cnn.add(Dense(units=128,activation=\"relu\"))"
   ]
  },
  {
   "cell_type": "code",
   "execution_count": 214,
   "id": "0dae92f3",
   "metadata": {},
   "outputs": [],
   "source": [
    "cnn.add(Dense(units=256,activation=\"relu\"))"
   ]
  },
  {
   "cell_type": "code",
   "execution_count": 215,
   "id": "ee364aa8",
   "metadata": {},
   "outputs": [],
   "source": [
    "cnn.add(Dense(units=512,activation=\"relu\"))"
   ]
  },
  {
   "cell_type": "code",
   "execution_count": 216,
   "id": "cf89561f",
   "metadata": {},
   "outputs": [],
   "source": [
    "cnn.add(Dropout(0.2))"
   ]
  },
  {
   "cell_type": "code",
   "execution_count": 217,
   "id": "155bdce8",
   "metadata": {},
   "outputs": [],
   "source": [
    "cnn.add(Dense(units=1,activation=\"sigmoid\"))"
   ]
  },
  {
   "cell_type": "code",
   "execution_count": 218,
   "id": "efef74b7",
   "metadata": {},
   "outputs": [],
   "source": [
    "cnn.compile(optimizer=\"adam\",loss=\"binary_crossentropy\",metrics=[\"accuracy\"])"
   ]
  },
  {
   "cell_type": "code",
   "execution_count": 219,
   "id": "0b6e2064",
   "metadata": {},
   "outputs": [
    {
     "name": "stdout",
     "output_type": "stream",
     "text": [
      "Model: \"sequential_13\"\n",
      "_________________________________________________________________\n",
      "Layer (type)                 Output Shape              Param #   \n",
      "=================================================================\n",
      "conv2d_24 (Conv2D)           (None, 62, 62, 32)        896       \n",
      "_________________________________________________________________\n",
      "max_pooling2d_24 (MaxPooling (None, 31, 31, 32)        0         \n",
      "_________________________________________________________________\n",
      "conv2d_25 (Conv2D)           (None, 29, 29, 32)        9248      \n",
      "_________________________________________________________________\n",
      "max_pooling2d_25 (MaxPooling (None, 14, 14, 32)        0         \n",
      "_________________________________________________________________\n",
      "flatten_12 (Flatten)         (None, 6272)              0         \n",
      "_________________________________________________________________\n",
      "dense_48 (Dense)             (None, 128)               802944    \n",
      "_________________________________________________________________\n",
      "dense_49 (Dense)             (None, 256)               33024     \n",
      "_________________________________________________________________\n",
      "dense_50 (Dense)             (None, 512)               131584    \n",
      "_________________________________________________________________\n",
      "dropout_11 (Dropout)         (None, 512)               0         \n",
      "_________________________________________________________________\n",
      "dense_51 (Dense)             (None, 1)                 513       \n",
      "=================================================================\n",
      "Total params: 978,209\n",
      "Trainable params: 978,209\n",
      "Non-trainable params: 0\n",
      "_________________________________________________________________\n"
     ]
    }
   ],
   "source": [
    "cnn.summary() "
   ]
  },
  {
   "cell_type": "code",
   "execution_count": 220,
   "id": "ee962a35",
   "metadata": {},
   "outputs": [
    {
     "name": "stdout",
     "output_type": "stream",
     "text": [
      "Epoch 1/4\n",
      "129/129 [==============================] - 39s 301ms/step - loss: 0.3783 - accuracy: 0.8768 - val_loss: 0.6287 - val_accuracy: 0.7927\n",
      "Epoch 2/4\n",
      "129/129 [==============================] - 40s 312ms/step - loss: 0.3573 - accuracy: 0.8800 - val_loss: 0.5189 - val_accuracy: 0.7927\n",
      "Epoch 3/4\n",
      "129/129 [==============================] - 40s 310ms/step - loss: 0.3549 - accuracy: 0.8800 - val_loss: 0.5344 - val_accuracy: 0.7927\n",
      "Epoch 4/4\n",
      "129/129 [==============================] - 41s 314ms/step - loss: 0.3466 - accuracy: 0.8800 - val_loss: 0.4815 - val_accuracy: 0.7927\n"
     ]
    }
   ],
   "source": [
    "history= cnn.fit(x=training_set,validation_data=test_set,epochs=4)"
   ]
  },
  {
   "cell_type": "code",
   "execution_count": 58,
   "id": "e1b9cef7",
   "metadata": {},
   "outputs": [
    {
     "name": "stdout",
     "output_type": "stream",
     "text": [
      "Saved model to disk\n"
     ]
    }
   ],
   "source": [
    "cnn.save(\"latestmodel.h5\")\n",
    "print(\"Saved model to disk\")"
   ]
  },
  {
   "cell_type": "code",
   "execution_count": null,
   "id": "3a2ce055",
   "metadata": {},
   "outputs": [],
   "source": []
  }
 ],
 "metadata": {
  "kernelspec": {
   "display_name": "Python 3",
   "language": "python",
   "name": "python3"
  },
  "language_info": {
   "codemirror_mode": {
    "name": "ipython",
    "version": 3
   },
   "file_extension": ".py",
   "mimetype": "text/x-python",
   "name": "python",
   "nbconvert_exporter": "python",
   "pygments_lexer": "ipython3",
   "version": "3.8.8"
  }
 },
 "nbformat": 4,
 "nbformat_minor": 5
}
